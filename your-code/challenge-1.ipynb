{
 "cells": [
  {
   "cell_type": "markdown",
   "metadata": {},
   "source": [
    "# String Operations Lab\n",
    "\n",
    "**Before your start:**\n",
    "\n",
    "- Read the README.md file\n",
    "- Comment as much as you can and use the resources in the README.md file\n",
    "- Happy learning!"
   ]
  },
  {
   "cell_type": "code",
   "execution_count": 2,
   "metadata": {},
   "outputs": [],
   "source": [
    "import re"
   ]
  },
  {
   "cell_type": "markdown",
   "metadata": {},
   "source": [
    "# Challenge 1 - Combining Strings\n",
    "\n",
    "Combining strings is an important skill to acquire. There are multiple ways of combining strings in Python, as well as combining strings with variables. We will explore this in the first challenge. In the cell below, combine the strings in the list and add spaces between the strings (do not add a space after the last string). Insert a period after the last string."
   ]
  },
  {
   "cell_type": "code",
   "execution_count": 7,
   "metadata": {},
   "outputs": [
    {
     "data": {
      "text/plain": [
       "'Durante un tiempo no estuvo segura de si su marido era su marido.'"
      ]
     },
     "execution_count": 7,
     "metadata": {},
     "output_type": "execute_result"
    }
   ],
   "source": [
    "str_list = ['Durante', 'un', 'tiempo', 'no', 'estuvo', 'segura', 'de', 'si', 'su', 'marido', 'era', 'su', 'marido']\n",
    " \n",
    "new_string = \" \".join(str_list) + \".\"\n",
    "new_string\n"
   ]
  },
  {
   "cell_type": "markdown",
   "metadata": {},
   "source": [
    "In the cell below, use the list of strings to create a grocery list. Start the list with the string `Grocery list: ` and include a comma and a space between each item except for the last one. Include a period at the end. Only include foods in the list that start with the letter 'b' and ensure all foods are lower case."
   ]
  },
  {
   "cell_type": "code",
   "execution_count": 27,
   "metadata": {},
   "outputs": [
    {
     "name": "stdout",
     "output_type": "stream",
     "text": [
      "Grocery list: bananas, bread, brownie mix, broccoli.\n"
     ]
    },
    {
     "data": {
      "text/plain": [
       "'\\n#other way thats colleagues show me\\n\\nstring = \\', \\'.join(food_list) + \".\"\\nprint(string)\\nstring1 = string.lower()\\nprint(string1)\\n\\nstart_string = \"Grocery list: \"\\n\\nb_rule = \"[b]\\\\w+\"\\nstring1 = re.findall(b_rule, string1)\\nprint(start_string, string1)\\n'"
      ]
     },
     "execution_count": 27,
     "metadata": {},
     "output_type": "execute_result"
    }
   ],
   "source": [
    "food_list = ['Bananas', 'Chocolate', 'bread', 'diapers', 'Ice Cream', 'Brownie Mix', 'broccoli']\n",
    "\n",
    "\n",
    "start_string = \"Grocery list: \"\n",
    "grocery_list = [food.lower() for food in food_list if (food[0] == \"b\") or (food[0] == \"B\")]\n",
    "final_string = start_string + \", \".join(grocery_list) + \".\"\n",
    "print(final_string)\n",
    "\n",
    "\n",
    "\n",
    "\"\"\"\n",
    "#other way that colleagues show me:\n",
    "\n",
    "string = ', '.join(food_list) + \".\"\n",
    "print(string)\n",
    "string1 = string.lower()\n",
    "print(string1)\n",
    "\n",
    "\n",
    "start_string = \"Grocery list: \"\n",
    "\n",
    "b_rule = \"[b]\\w+\"\n",
    "string1 = re.findall(b_rule, string1)\n",
    "print(start_string, string1)\n",
    "\"\"\""
   ]
  },
  {
   "cell_type": "markdown",
   "metadata": {},
   "source": [
    "In the cell below, write a function that computes the area of a circle using its radius. Compute the area of the circle and insert the radius and the area between the two strings. Make sure to include spaces between the variable and the strings. \n",
    "\n",
    "Note: You can use the techniques we have learned so far or use f-strings. F-strings allow us to embed code inside strings. You can read more about f-strings [here](https://www.python.org/dev/peps/pep-0498/)."
   ]
  },
  {
   "cell_type": "code",
   "execution_count": 30,
   "metadata": {},
   "outputs": [
    {
     "name": "stdout",
     "output_type": "stream",
     "text": [
      "The area of the circle with radius: 4.5 is: 63.61725123519331\n"
     ]
    },
    {
     "data": {
      "text/plain": [
       "'\\n# #other way thats colleagues show me (i understand what it does, just couldnt do it like this myself)\\ndef area(x, pi = math.pi):\\n    return pi * (x**2)\\n    \\ndef compute(radius):\\n    string1 = \"The area of the circle with radius: \"\\n    string2  = \" is: \"\\n    output_string = string1 + str(radius) + string2 + str(area(radius))\\n    return output\\n    \\ncompute(4.5)\\n\\n'"
      ]
     },
     "execution_count": 30,
     "metadata": {},
     "output_type": "execute_result"
    }
   ],
   "source": [
    "import math\n",
    "\n",
    "string1 = \"The area of the circle with radius: \"\n",
    "string2  = \" is: \"\n",
    "radius = 4.5\n",
    "\n",
    "def area(x, pi = math.pi):\n",
    "     # This function takes a radius and returns the area of a circle. We also pass a default value for pi.\n",
    "    # Input: Float (and default value for pi)\n",
    "    # Output: Float\n",
    "    \n",
    "    # Sample input: 5.0\n",
    "    # Sample Output: 78.53981633\n",
    "    \n",
    "    # Your code here:\n",
    "    return pi * (x**2)\n",
    "    \n",
    "# Your output string here:\n",
    "output_string = string1 + str(radius) + string2 + str(area(radius))\n",
    "print(output_string)\n",
    "\n",
    "\n",
    "\n",
    "\n",
    "\"\"\"\n",
    "# #other way thats colleagues show me (i understand what it does, just couldnt do it like this myself)\n",
    "def area(x, pi = math.pi):\n",
    "    return pi * (x**2)\n",
    "    \n",
    "def compute(radius):\n",
    "    string1 = \"The area of the circle with radius: \"\n",
    "    string2  = \" is: \"\n",
    "    output_string = string1 + str(radius) + string2 + str(area(radius))\n",
    "    return output\n",
    "    \n",
    "compute(4.5)\n",
    "\n",
    "\"\"\"\n",
    "\n"
   ]
  },
  {
   "cell_type": "markdown",
   "metadata": {},
   "source": [
    "# Challenge 2 - Splitting Strings\n",
    "\n",
    "We have first looked at combining strings into one long string. There are times where we need to do the opposite and split the string into smaller components for further analysis. \n",
    "\n",
    "In the cell below, split the string into a list of strings using the space delimiter. Count the frequency of each word in the string in a dictionary. Strip the periods, line breaks and commas from the text. Make sure to remove empty strings from your dictionary."
   ]
  },
  {
   "cell_type": "code",
   "execution_count": 64,
   "metadata": {},
   "outputs": [
    {
     "name": "stdout",
     "output_type": "stream",
     "text": [
      "['Some', 'say', 'the', 'world', 'will', 'end', 'in', 'fire', 'Some', 'say', 'in', 'ice', 'From', 'what', 'I’ve', 'tasted', 'of', 'desire', 'I', 'hold', 'with', 'those', 'who', 'favor', 'fire', 'But', 'if', 'it', 'had', 'to', 'perish', 'twice', 'I', 'think', 'I', 'know', 'enough', 'of', 'hate', 'To', 'say', 'that', 'for', 'destruction', 'ice', 'Is', 'also', 'great', 'And', 'would', 'suffice']\n"
     ]
    },
    {
     "data": {
      "text/plain": [
       "{'Some': 2,\n",
       " 'say': 3,\n",
       " 'the': 1,\n",
       " 'world': 1,\n",
       " 'will': 1,\n",
       " 'end': 1,\n",
       " 'in': 2,\n",
       " 'fire': 2,\n",
       " 'ice': 2,\n",
       " 'From': 1,\n",
       " 'what': 1,\n",
       " 'I’ve': 1,\n",
       " 'tasted': 1,\n",
       " 'of': 2,\n",
       " 'desire': 1,\n",
       " 'I': 3,\n",
       " 'hold': 1,\n",
       " 'with': 1,\n",
       " 'those': 1,\n",
       " 'who': 1,\n",
       " 'favor': 1,\n",
       " 'But': 1,\n",
       " 'if': 1,\n",
       " 'it': 1,\n",
       " 'had': 1,\n",
       " 'to': 1,\n",
       " 'perish': 1,\n",
       " 'twice': 1,\n",
       " 'think': 1,\n",
       " 'know': 1,\n",
       " 'enough': 1,\n",
       " 'hate': 1,\n",
       " 'To': 1,\n",
       " 'that': 1,\n",
       " 'for': 1,\n",
       " 'destruction': 1,\n",
       " 'Is': 1,\n",
       " 'also': 1,\n",
       " 'great': 1,\n",
       " 'And': 1,\n",
       " 'would': 1,\n",
       " 'suffice': 1}"
      ]
     },
     "execution_count": 64,
     "metadata": {},
     "output_type": "execute_result"
    }
   ],
   "source": [
    "poem = \"\"\"Some say the world will end in fire,\n",
    "Some say in ice.\n",
    "From what I’ve tasted of desire\n",
    "I hold with those who favor fire.\n",
    "But if it had to perish twice,\n",
    "I think I know enough of hate\n",
    "To say that for destruction ice\n",
    "Is also great\n",
    "And would suffice.\"\"\"\n",
    "\n",
    "\n",
    "\n",
    "poem1 = poem.replace(\"\\n\",\" \")\n",
    "poem2 = poem1.replace(\".\",\"\")\n",
    "poem3 = poem2.replace(\",\",\"\")\n",
    "poem_list = poem3.split(\" \")\n",
    "\n",
    "print(poem_list)\n",
    "\n",
    "\n",
    "poem_dict = {}\n",
    "for word in poem_list:\n",
    "    if word in poem_dict:\n",
    "        poem_dict[word] += 1\n",
    "    else:\n",
    "        poem_dict[word] = 1\n",
    "poem_dict\n",
    "\n",
    "\n",
    "\n",
    "\"\"\"\n",
    "poem.split(' ')\n",
    "rule=\"[a-z]+\"\n",
    "\n",
    "\n",
    "freq_word={}\n",
    "for word in re.findall(rule,poem.lower()):\n",
    "    if word in freq_word.keys():\n",
    "        freq_word[word]+=1\n",
    "    else:\n",
    "        freq_word[word]=1\n",
    "freq_word\n",
    "\n",
    "\n",
    "\n",
    "\n",
    "\n",
    "poem_list = poem.split()\n",
    "poem_list = [word.strip(\",.\") for word in poem_list]\n",
    "\n",
    "poem_dict = {word:poem_list.count(word) for word in poem_list}\n",
    "print(poem_dict)\n",
    "\n",
    "\"\"\""
   ]
  },
  {
   "cell_type": "markdown",
   "metadata": {},
   "source": [
    "In the cell below, find all the words that appear in the text and do not appear in the blacklist. You must parse the string but can choose any data structure you wish for the words that do not appear in the blacklist. Remove all non letter characters and convert all words to lower case."
   ]
  },
  {
   "cell_type": "code",
   "execution_count": 18,
   "metadata": {},
   "outputs": [
    {
     "name": "stdout",
     "output_type": "stream",
     "text": [
      "['i', 'was', 'angry', 'with', 'my', 'friend', 'i', 'told', 'my', 'wrath', 'my', 'wrath', 'did', 'end', 'i', 'was', 'angry', 'with', 'my', 'foe', 'i', 'told', 'not', 'my', 'wrath', 'did', 'grow', 'and', 'i', 'waterd', 'fears', 'night', 'morning', 'with', 'my', 'tears', 'and', 'i', 'sunned', 'with', 'smiles', 'and', 'with', 'soft', 'deceitful', 'wiles', 'and', 'grew', 'both', 'day', 'night', 'till', 'bore', 'apple', 'bright', 'and', 'my', 'foe', 'beheld', 'shine', 'and', 'he', 'knew', 'that', 'was', 'mine', 'and', 'into', 'my', 'garden', 'stole', 'when', 'night', 'had', 'veild', 'pole', 'in', 'morning', 'glad', 'i', 'see', 'my', 'foe', 'outstretched', 'beneath', 'tree']\n",
      "['i', 'was', 'angry', 'with', 'my', 'friend', 'i', 'told', 'my', 'wrath', 'my', 'wrath', 'did', 'end', 'i', 'was', 'angry', 'with', 'my', 'foe', 'i', 'told', 'not', 'my', 'wrath', 'did', 'grow', 'i', 'waterd', 'fears', 'night', 'morning', 'with', 'my', 'tears', 'i', 'sunned', 'with', 'smiles', 'with', 'soft', 'deceitful', 'wiles', 'grew', 'both', 'day', 'night', 'till', 'bore', 'apple', 'bright', 'my', 'foe', 'beheld', 'shine', 'he', 'knew', 'that', 'was', 'mine', 'into', 'my', 'garden', 'stole', 'when', 'night', 'had', 'veild', 'pole', 'morning', 'glad', 'i', 'see', 'my', 'foe', 'outstretched', 'beneath', 'tree']\n"
     ]
    },
    {
     "data": {
      "text/plain": [
       "'\\npoem_list = []\\npoem_list = poem.split()\\npoem_list.remove(\"&\") #Kinda hardcoded here, \\n#when inserting an extra \\'&\\' together with the \\'.,:;\\' it was leaving me an empty element at the list\\n#we could always remove any empty element inside a list\\n#like this [word for word in poem_list if word]\\npoem_list = [word.strip(\".,:;\") for word in poem_list]\\n\\nwords_appear = []\\nfor word in poem_list:\\n    if word not in blacklist:\\n        words_appear.append(word)\\n\\n#or\\n\\nwords_appear = [word for word in poem_list if word not in blacklist]\\nprint(words_appear)   \\n'"
      ]
     },
     "execution_count": 18,
     "metadata": {},
     "output_type": "execute_result"
    }
   ],
   "source": [
    "blacklist = ['and', 'as', 'an', 'a', 'the', 'in', 'it']\n",
    "\n",
    "poem = \"\"\"I was angry with my friend; \n",
    "I told my wrath, my wrath did end.\n",
    "I was angry with my foe: \n",
    "I told it not, my wrath did grow. \n",
    "\n",
    "And I waterd it in fears,\n",
    "Night & morning with my tears: \n",
    "And I sunned it with smiles,\n",
    "And with soft deceitful wiles. \n",
    "\n",
    "And it grew both day and night. \n",
    "Till it bore an apple bright. \n",
    "And my foe beheld it shine,\n",
    "And he knew that it was mine. \n",
    "\n",
    "And into my garden stole, \n",
    "When the night had veild the pole; \n",
    "In the morning glad I see; \n",
    "My foe outstretched beneath the tree.\"\"\"\n",
    "\n",
    "\n",
    "\n",
    "poem_list = poem.split()\n",
    "# \"&\" as to be in here because when i put in the strip(\".,;\") it stays on the list (remove it with list comprehension)\n",
    "poem_list.remove(\"&\") \n",
    "p = [word for word in poem_list if (word == \"&\")] \n",
    "poem_list = [word.strip(\".,:;\") for word in poem_list]\n",
    "\n",
    "\n",
    "appear_words = [word.lower() for word in poem_list if word not in blacklist]\n",
    "print(appear_words)\n",
    "\n",
    "final_string = []\n",
    "for word in appear_words:\n",
    "    if word not in blacklist:\n",
    "        final_string.append(word)\n",
    "print(final_string)\n",
    "\n",
    "\n",
    "\"\"\"\n",
    "# more simple, a colleague showed me\n",
    "\n",
    "rule='[a-z]+'\n",
    "\n",
    "words=[]\n",
    "for word in re.findall(rule,poem.lower()):\n",
    "    if word not in blacklist:\n",
    "        words.append(word)\n",
    "print(words)"
   ]
  },
  {
   "cell_type": "markdown",
   "metadata": {},
   "source": [
    "# Challenge 3 - Regular Expressions\n",
    "\n",
    "Sometimes, we would like to perform more complex manipulations of our string. This is where regular expressions come in handy. In the cell below, return all characters that are upper case from the string specified below."
   ]
  },
  {
   "cell_type": "code",
   "execution_count": 5,
   "metadata": {},
   "outputs": [
    {
     "name": "stdout",
     "output_type": "stream",
     "text": [
      "TP\n"
     ]
    },
    {
     "data": {
      "text/plain": [
       "\"\\n#OR\\nrule='[A-Z]'\\nre.findall(rule, poem)\\n\\n\""
      ]
     },
     "execution_count": 5,
     "metadata": {},
     "output_type": "execute_result"
    }
   ],
   "source": [
    "poem = \"\"\"The apparition of these faces in the crowd;\n",
    "Petals on a wet, black bough.\"\"\"\n",
    "\n",
    "\n",
    "#sub(): substitute out a number/string for another\n",
    "print(re.sub(\"[^A-Z]\", \"\", poem))\n",
    "\n",
    "\"\"\"\n",
    "#OR\n",
    "rule='[A-Z]'\n",
    "re.findall(rule, poem)\n",
    "\n",
    "\"\"\""
   ]
  },
  {
   "cell_type": "markdown",
   "metadata": {},
   "source": [
    "In the cell below, filter the list provided and return all elements of the list containing a number. To filter the list, use the `re.search` function. Check if the function does not return `None`. You can read more about the `re.search` function [here](https://docs.python.org/3/library/re.html)."
   ]
  },
  {
   "cell_type": "code",
   "execution_count": 23,
   "metadata": {},
   "outputs": [
    {
     "name": "stdout",
     "output_type": "stream",
     "text": [
      "['123abc', 'abc123', 'JohnSmith1', 'ABBY4']\n"
     ]
    }
   ],
   "source": [
    "data = ['123abc', 'abc123', 'JohnSmith1', 'ABBY4', 'JANE']\n",
    "\n",
    "rule = \"[0-9]\"\n",
    "for word in data:\n",
    "    if re.search(rule,word) == None:\n",
    "        data.remove(word)\n",
    "print(data)"
   ]
  },
  {
   "cell_type": "markdown",
   "metadata": {},
   "source": [
    "# Bonus Challenge - Regular Expressions II\n",
    "\n",
    "In the cell below, filter the list provided to keep only strings containing at least one digit and at least one lower case letter. As in the previous question, use the `re.search` function and check that the result is not `None`.\n",
    "\n",
    "To read more about regular expressions, check out [this link](https://developers.google.com/edu/python/regular-expressions)."
   ]
  },
  {
   "cell_type": "code",
   "execution_count": 10,
   "metadata": {},
   "outputs": [
    {
     "name": "stdout",
     "output_type": "stream",
     "text": [
      "['123abc', 'abc123', 'JohnSmith1']\n"
     ]
    }
   ],
   "source": [
    "data = ['123abc', 'abc123', 'JohnSmith1', 'ABBY4', 'JANE']\n",
    "\n",
    "data_1l_1d = []\n",
    "for word in data:\n",
    "    if (re.search(\"[a-z]\", word) != None) and (re.search(\"[0-9]\", word) != None):\n",
    "        data_1l_1d.append(word)\n",
    "print(data_1l_1d)\n",
    "        "
   ]
  },
  {
   "cell_type": "code",
   "execution_count": null,
   "metadata": {},
   "outputs": [],
   "source": []
  }
 ],
 "metadata": {
  "kernelspec": {
   "display_name": "Python 3",
   "language": "python",
   "name": "python3"
  },
  "language_info": {
   "codemirror_mode": {
    "name": "ipython",
    "version": 3
   },
   "file_extension": ".py",
   "mimetype": "text/x-python",
   "name": "python",
   "nbconvert_exporter": "python",
   "pygments_lexer": "ipython3",
   "version": "3.7.6"
  }
 },
 "nbformat": 4,
 "nbformat_minor": 2
}
